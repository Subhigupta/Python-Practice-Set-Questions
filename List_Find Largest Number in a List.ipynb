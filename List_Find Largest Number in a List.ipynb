{
 "cells": [
  {
   "cell_type": "markdown",
   "id": "e97a9824",
   "metadata": {},
   "source": [
    "## Approach 1 Using sort inbuilt function"
   ]
  },
  {
   "cell_type": "code",
   "execution_count": 3,
   "id": "390ec3d9",
   "metadata": {},
   "outputs": [
    {
     "name": "stdout",
     "output_type": "stream",
     "text": [
      "[4, 10, 20, 45, 99]\n",
      "Largest element is: 99\n"
     ]
    }
   ],
   "source": [
    "# Python program to find largest\n",
    "# number in a list\n",
    "\n",
    "# list of numbers\n",
    "list1 = [10, 20, 4, 45, 99]\n",
    "\n",
    "# sorting the list\n",
    "list1.sort() #ascending by default\n",
    "print(list1)\n",
    "\n",
    "# printing the last element\n",
    "print(\"Largest element is:\", list1[-1])\n"
   ]
  },
  {
   "cell_type": "markdown",
   "id": "d2f2eca2",
   "metadata": {},
   "source": [
    "## Approach 2 Using max inbuilt function"
   ]
  },
  {
   "cell_type": "code",
   "execution_count": 4,
   "id": "6cd06b94",
   "metadata": {},
   "outputs": [
    {
     "name": "stdout",
     "output_type": "stream",
     "text": [
      "Largest element is: 99\n"
     ]
    }
   ],
   "source": [
    "# Python program to find largest\n",
    "# number in a list\n",
    "\n",
    "# List of numbers\n",
    "list1 = [10, 20, 4, 45, 99]\n",
    "\n",
    "# Printing the maximum element\n",
    "print(\"Largest element is:\", max(list1))"
   ]
  },
  {
   "cell_type": "markdown",
   "id": "5454f542",
   "metadata": {},
   "source": [
    "## Approach 3 Without using any inbuilt function"
   ]
  },
  {
   "cell_type": "code",
   "execution_count": 5,
   "id": "c3ec78ad",
   "metadata": {},
   "outputs": [
    {
     "name": "stdout",
     "output_type": "stream",
     "text": [
      "Largest element is: 99\n"
     ]
    }
   ],
   "source": [
    "def maximum_in_list(list):\n",
    "    max=list[0];\n",
    "    for ele in list:\n",
    "        if ele>max:\n",
    "            max=ele\n",
    "    return max\n",
    "\n",
    "# List of numbers\n",
    "list1 = [10, 20, 4, 45, 99]\n",
    "\n",
    "# Printing the maximum element\n",
    "print(\"Largest element is:\", maximum_in_list(list1))\n"
   ]
  },
  {
   "cell_type": "code",
   "execution_count": null,
   "id": "cb70c599",
   "metadata": {},
   "outputs": [],
   "source": []
  }
 ],
 "metadata": {
  "kernelspec": {
   "display_name": "Python 3 (ipykernel)",
   "language": "python",
   "name": "python3"
  },
  "language_info": {
   "codemirror_mode": {
    "name": "ipython",
    "version": 3
   },
   "file_extension": ".py",
   "mimetype": "text/x-python",
   "name": "python",
   "nbconvert_exporter": "python",
   "pygments_lexer": "ipython3",
   "version": "3.10.9"
  }
 },
 "nbformat": 4,
 "nbformat_minor": 5
}
