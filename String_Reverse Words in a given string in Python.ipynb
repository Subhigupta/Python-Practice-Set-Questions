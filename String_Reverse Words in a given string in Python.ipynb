{
 "cells": [
  {
   "cell_type": "markdown",
   "id": "0ed92f4b",
   "metadata": {},
   "source": [
    "## Approach by me using split function and creating list to reverse words"
   ]
  },
  {
   "cell_type": "code",
   "execution_count": 1,
   "id": "3b379b74",
   "metadata": {},
   "outputs": [
    {
     "name": "stdout",
     "output_type": "stream",
     "text": [
      "my name is laxmi\n",
      "4\n",
      "3\n",
      "2\n",
      "1\n",
      "0\n",
      "Reversed String is: laxmi is name my\n"
     ]
    }
   ],
   "source": [
    "s=input()\n",
    "a=s.split(\" \")\n",
    "print(len(a));\n",
    "b=[];\n",
    "rev_s=\"\";\n",
    "\n",
    "for i in range(len(a)-1,-1,-1):\n",
    "    print(i);#I have given -1 as stop cuz it will be stopped at 0 (one index beforre)\n",
    "    if i==0:\n",
    "        rev_s=rev_s+ a[i];\n",
    "    else:\n",
    "        rev_s=rev_s+ a[i]+ \" \";\n",
    "print(\"Reversed String is: \" + rev_s);\n"
   ]
  },
  {
   "cell_type": "markdown",
   "id": "1af32e8f",
   "metadata": {},
   "source": [
    "## Approach using function\n"
   ]
  },
  {
   "cell_type": "code",
   "execution_count": 33,
   "id": "b3b3a0dc",
   "metadata": {},
   "outputs": [
    {
     "name": "stdout",
     "output_type": "stream",
     "text": [
      "geeks practice ques\n",
      "ques practice geeks\n"
     ]
    }
   ],
   "source": [
    "def reverse_words(s):\n",
    "    a=s.split(\" \");\n",
    "    rev_s=\"\";\n",
    "\n",
    "    for i in range(len(a)-1,-1,-1):\n",
    "        if i==0:\n",
    "            rev_s=rev_s+ a[i];\n",
    "        else:\n",
    "            rev_s=rev_s+ a[i]+ \" \";\n",
    "    return rev_s\n",
    "\n",
    "# s=input()\n",
    "# reverse_words(s)\n",
    "\n",
    "if __name__ == \"__main__\":\n",
    "    s=input()\n",
    "    print(reverse_words(s));"
   ]
  },
  {
   "cell_type": "markdown",
   "id": "352bc6be",
   "metadata": {},
   "source": [
    "## Approach using stack"
   ]
  },
  {
   "cell_type": "code",
   "execution_count": 3,
   "id": "3d2778ff",
   "metadata": {},
   "outputs": [
    {
     "name": "stdout",
     "output_type": "stream",
     "text": [
      "geeks practice ques\n",
      "['geeks', 'practice', 'ques']\n",
      "['geeks', 'practice']\n",
      "['geeks']\n",
      "['ques', 'practice', 'geeks']\n",
      "ques practice geeks\n"
     ]
    }
   ],
   "source": [
    "# initializing string\n",
    "string = input()\n",
    " \n",
    "# creating an empty stack\n",
    "stack = [] #Its just a list\n",
    " \n",
    "# pushing words onto the stack\n",
    "for word in string.split(): #by default split happens around white spaces\n",
    "    stack.append(word);\n",
    " \n",
    " # create an empty list to store the reversed words\n",
    "reversed_words = []\n",
    " \n",
    "# popping words off the stack and appending them to the list\n",
    "while stack:\n",
    "    print(stack) # till there are elements in stack till then while loop is going to run\n",
    "    reversed_words.append(stack.pop()) #by default last element will be popped\n",
    "print(reversed_words)\n",
    " \n",
    " # joining the reversed words with a space\n",
    "reversed_string = \" \".join(reversed_words)\n",
    " \n",
    "# printing the reversed string\n",
    "print(reversed_string)"
   ]
  },
  {
   "cell_type": "code",
   "execution_count": 38,
   "id": "7cde4d4b",
   "metadata": {},
   "outputs": [
    {
     "name": "stdout",
     "output_type": "stream",
     "text": [
      "['g', 'e', 'e', 'k', 's', ' ', 'q', 'u', 'i', 'z', ' ', 'p', 'r', 'a', 'c', 't', 'i', 'c', 'e', ' ', 'c', 'o', 'd', 'e']\n",
      "['e', 'd', 'o', 'c', ' ', 'e', 'c', 'i', 't', 'c', 'a', 'r', 'p', ' ', 'z', 'i', 'u', 'q', ' ', 's', 'k', 'e', 'e', 'g']\n",
      "['c', 'o', 'd', 'e', ' ', 'e', 'c', 'i', 't', 'c', 'a', 'r', 'p', ' ', 'z', 'i', 'u', 'q', ' ', 's', 'k', 'e', 'e', 'g']\n",
      "['c', 'o', 'd', 'e', ' ', 'p', 'r', 'a', 'c', 't', 'i', 'c', 'e', ' ', 'z', 'i', 'u', 'q', ' ', 's', 'k', 'e', 'e', 'g']\n",
      "['c', 'o', 'd', 'e', ' ', 'p', 'r', 'a', 'c', 't', 'i', 'c', 'e', ' ', 'q', 'u', 'i', 'z', ' ', 's', 'k', 'e', 'e', 'g']\n",
      "code practice quiz geeks\n"
     ]
    }
   ],
   "source": [
    "# Function to reverse the words in string\n",
    "def reverse_word(s, start, end):\n",
    "    while start < end:\n",
    "        s[start], s[end] = s[end], s[start]\n",
    "        start += 1\n",
    "        end -= 1\n",
    " \n",
    "# Function to reverse the string\n",
    "def reverse_string(s):\n",
    "    s = list(s)\n",
    "    print(s)\n",
    "    start, end = 0, len(s) - 1\n",
    "    reverse_word(s, start, end)\n",
    "    print(s)\n",
    " \n",
    "    start = end = 0\n",
    " \n",
    "    # Iterate over the string S\n",
    "    while end < len(s):\n",
    "        if s[end] == ' ':\n",
    "            reverse_word(s, start, end - 1)\n",
    "            print(s)\n",
    "            start = end + 1\n",
    "        end += 1\n",
    " \n",
    "    # Reverse the words\n",
    "    reverse_word(s, start, end - 1)\n",
    "    return ''.join(s)\n",
    " \n",
    " \n",
    "# Driver Code\n",
    "S = \"geeks quiz practice code\"\n",
    "print(reverse_string(S))"
   ]
  },
  {
   "cell_type": "code",
   "execution_count": null,
   "id": "263cf8b1",
   "metadata": {},
   "outputs": [],
   "source": []
  }
 ],
 "metadata": {
  "kernelspec": {
   "display_name": "Python 3 (ipykernel)",
   "language": "python",
   "name": "python3"
  },
  "language_info": {
   "codemirror_mode": {
    "name": "ipython",
    "version": 3
   },
   "file_extension": ".py",
   "mimetype": "text/x-python",
   "name": "python",
   "nbconvert_exporter": "python",
   "pygments_lexer": "ipython3",
   "version": "3.10.9"
  }
 },
 "nbformat": 4,
 "nbformat_minor": 5
}
