{
 "cells": [
  {
   "cell_type": "markdown",
   "id": "ca93663a",
   "metadata": {},
   "source": [
    "## Approach 1 using split function and checking for even length for each word "
   ]
  },
  {
   "cell_type": "code",
   "execution_count": 7,
   "id": "d028cff6",
   "metadata": {},
   "outputs": [
    {
     "name": "stdout",
     "output_type": "stream",
     "text": [
      "Enter a string:Shubhi Gupta\n"
     ]
    },
    {
     "data": {
      "text/plain": [
       "['Shubhi']"
      ]
     },
     "execution_count": 7,
     "metadata": {},
     "output_type": "execute_result"
    }
   ],
   "source": [
    "def even_words(words):\n",
    "    even_len_words=[];\n",
    "    for i in range(0,len(words)):\n",
    "        if len(words[i])%2==0:\n",
    "            even_len_words.append(words[i]);\n",
    "    return even_len_words\n",
    "s=input(\"Enter a string:\");\n",
    "words=s.split(\" \")\n",
    "even_words(words)"
   ]
  },
  {
   "cell_type": "markdown",
   "id": "94338e08",
   "metadata": {},
   "source": [
    "## Approach 2 using recursion"
   ]
  },
  {
   "cell_type": "code",
   "execution_count": 10,
   "id": "57776787",
   "metadata": {},
   "outputs": [
    {
     "name": "stdout",
     "output_type": "stream",
     "text": [
      "geek\n"
     ]
    }
   ],
   "source": [
    "#recursive function to print even length words\n",
    "def PrintEvenLengthWord(itr,list1):\n",
    "  if itr == len(list1):\n",
    "    return\n",
    "  if len(list1[itr])%2 == 0:\n",
    "    print(list1[itr])\n",
    "  PrintEvenLengthWord(itr+1,list1)\n",
    "  return\n",
    "str = \"geeks for geek\"\n",
    "l=str.split();#[i for i in str.split()]\n",
    "PrintEvenLengthWord(0,l)"
   ]
  },
  {
   "cell_type": "code",
   "execution_count": null,
   "id": "215d93b9",
   "metadata": {},
   "outputs": [],
   "source": []
  }
 ],
 "metadata": {
  "kernelspec": {
   "display_name": "Python 3 (ipykernel)",
   "language": "python",
   "name": "python3"
  },
  "language_info": {
   "codemirror_mode": {
    "name": "ipython",
    "version": 3
   },
   "file_extension": ".py",
   "mimetype": "text/x-python",
   "name": "python",
   "nbconvert_exporter": "python",
   "pygments_lexer": "ipython3",
   "version": "3.10.9"
  }
 },
 "nbformat": 4,
 "nbformat_minor": 5
}
