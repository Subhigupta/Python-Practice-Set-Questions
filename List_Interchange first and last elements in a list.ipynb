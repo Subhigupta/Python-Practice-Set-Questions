{
 "cells": [
  {
   "cell_type": "markdown",
   "id": "b6dcff16",
   "metadata": {},
   "source": [
    "## Approach 1 "
   ]
  },
  {
   "cell_type": "code",
   "execution_count": 10,
   "id": "0da39f64",
   "metadata": {},
   "outputs": [
    {
     "name": "stdout",
     "output_type": "stream",
     "text": [
      "[4, 2, 3, 1]\n"
     ]
    }
   ],
   "source": [
    "def interchange(l):\n",
    "    new_l=[0 for i in range(len(l))];\n",
    "    new_l[0]=l[len(l)-1];\n",
    "    new_l[len(l)-1]=l[0];\n",
    "    for i in range(1,len(l)-1,1):\n",
    "        new_l[i]=l[i];\n",
    "    return(new_l)\n",
    "    \n",
    "l=[1,2,3,4];\n",
    "print(interchange(l))"
   ]
  },
  {
   "cell_type": "markdown",
   "id": "43725482",
   "metadata": {},
   "source": [
    "## Approach 2 Swapping Elements"
   ]
  },
  {
   "cell_type": "code",
   "execution_count": 12,
   "id": "560e5e06",
   "metadata": {},
   "outputs": [
    {
     "name": "stdout",
     "output_type": "stream",
     "text": [
      "[4, 2, 3, 1]\n"
     ]
    }
   ],
   "source": [
    "def interchange(l):\n",
    "    \n",
    "    #swapping elements using temporary variable \n",
    "    temp=l[0];\n",
    "    l[0]=l[len(l)-1];\n",
    "    l[len(l)-1]=temp;\n",
    "    return l;\n",
    "    \n",
    "l=[1,2,3,4];\n",
    "print(interchange(l))"
   ]
  },
  {
   "cell_type": "markdown",
   "id": "dface753",
   "metadata": {},
   "source": [
    "## Approach 3 Using inbuilt functions list.pop()"
   ]
  },
  {
   "cell_type": "code",
   "execution_count": 16,
   "id": "944ff955",
   "metadata": {},
   "outputs": [
    {
     "name": "stdout",
     "output_type": "stream",
     "text": [
      "[4, 2, 3, 1]\n"
     ]
    }
   ],
   "source": [
    "def interchange(l):\n",
    "    #Deleting elements at first and last index\n",
    "    first_element=l.pop(0);\n",
    "    last_element=l.pop(-1);\n",
    "    \n",
    "    #appending the first_element at last\n",
    "    l.append(first_element);\n",
    "    #Inserting the last_element at index 0\n",
    "    l.insert(0,last_element);\n",
    "    return l;\n",
    "    \n",
    "l=[1,2,3,4];\n",
    "print(interchange(l))"
   ]
  },
  {
   "cell_type": "markdown",
   "id": "95ec15a0",
   "metadata": {},
   "source": [
    "## Approach 4 Using slicing"
   ]
  },
  {
   "cell_type": "code",
   "execution_count": 25,
   "id": "7719743e",
   "metadata": {},
   "outputs": [
    {
     "name": "stdout",
     "output_type": "stream",
     "text": [
      "The original input is: [12, 35, 9, 56, 24]\n",
      "The output after swap first and last is: [24, 35, 9, 56, 12]\n"
     ]
    }
   ],
   "source": [
    "def swap_first_last_3(lst):\n",
    "\t# Check if list has at least 2 elements\n",
    "\tif len(lst) >= 2:\n",
    "\t\t# Swap the first and last elements using slicing\n",
    "\t\tlst = lst[-1:] + lst[1:-1]+ lst[:1];\n",
    "\treturn lst\n",
    "\n",
    "# Initializing the input\n",
    "inp=[12, 35, 9, 56, 24]\n",
    "\n",
    "# Printing the original input\n",
    "print(\"The original input is:\",inp)\n",
    "\n",
    "result=swap_first_last_3(inp)\n",
    "\n",
    "# Printing the result\n",
    "print(\"The output after swap first and last is:\",result)\n"
   ]
  },
  {
   "cell_type": "code",
   "execution_count": null,
   "id": "d579072a",
   "metadata": {},
   "outputs": [],
   "source": []
  }
 ],
 "metadata": {
  "kernelspec": {
   "display_name": "Python 3 (ipykernel)",
   "language": "python",
   "name": "python3"
  },
  "language_info": {
   "codemirror_mode": {
    "name": "ipython",
    "version": 3
   },
   "file_extension": ".py",
   "mimetype": "text/x-python",
   "name": "python",
   "nbconvert_exporter": "python",
   "pygments_lexer": "ipython3",
   "version": "3.10.9"
  }
 },
 "nbformat": 4,
 "nbformat_minor": 5
}
