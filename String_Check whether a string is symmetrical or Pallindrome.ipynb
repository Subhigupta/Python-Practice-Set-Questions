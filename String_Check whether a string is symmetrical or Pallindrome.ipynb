{
 "cells": [
  {
   "cell_type": "markdown",
   "id": "ac151629",
   "metadata": {},
   "source": [
    "## Approach 1 (naive process)"
   ]
  },
  {
   "cell_type": "code",
   "execution_count": 28,
   "id": "831593a2",
   "metadata": {},
   "outputs": [
    {
     "name": "stdout",
     "output_type": "stream",
     "text": [
      "khokho\n",
      "String is not pallindrome\n",
      "First Half is kho\n",
      "Second half is kho\n",
      "String is symmetrical\n"
     ]
    }
   ],
   "source": [
    "def pallindrome(s):\n",
    "    b=\"\";\n",
    "    for i in range(len(s)-1,-1,-1):\n",
    "        b=b+s[i];\n",
    "        #print(i)\n",
    "    if b==s:\n",
    "        print(b)\n",
    "        print(\"String is pallindrome\")\n",
    "    else:\n",
    "        print(\"String is not pallindrome\")\n",
    "\n",
    "def symmetrical(s):\n",
    "    firsthalf=\"\";\n",
    "    secondhalf=\"\";\n",
    "    half=int(len(s)/2);\n",
    "    for i in range(0,half):\n",
    "        firsthalf=firsthalf+s[i];\n",
    "    print(\"First Half is\" + \" \"+ firsthalf);\n",
    "    for i in range(half,len(s)):\n",
    "        secondhalf=secondhalf +s[i];\n",
    "    print(\"Second half is\" + \" \" + secondhalf);\n",
    "    if firsthalf==secondhalf:\n",
    "        print(\"String is symmetrical\")\n",
    "    else:\n",
    "        print(\"String is not symmetrical\");\n",
    "    \n",
    "\n",
    "s=input()\n",
    "\n",
    "if len(s)%2!=0:\n",
    "    print(\"String is not symmetrical for sure. It may or may not be pallindrome\")\n",
    "    pallindrome(s)\n",
    "else:\n",
    "    pallindrome(s)\n",
    "    symmetrical(s)\n",
    "    "
   ]
  },
  {
   "cell_type": "markdown",
   "id": "1dc65a5c",
   "metadata": {},
   "source": [
    "## Approach 2 (slicing)"
   ]
  },
  {
   "cell_type": "code",
   "execution_count": 45,
   "id": "9fe20ef5",
   "metadata": {},
   "outputs": [
    {
     "name": "stdout",
     "output_type": "stream",
     "text": [
      "amaama\n",
      "amaama\n",
      "String is pallindrome\n",
      "String is symmetrical\n"
     ]
    }
   ],
   "source": [
    "def pallindrome(s):\n",
    "    #b=s[::-1];\n",
    "    b=''.join(reversed(s));\n",
    "    print(b)\n",
    "    if b==s:\n",
    "        print(\"String is pallindrome\")\n",
    "    else:\n",
    "        print(\"String is not pallindrome\")\n",
    "\n",
    "def symmetrical(s):\n",
    "    half=int(len(s)/2);\n",
    "    firsthalf=s[0:half];\n",
    "    secondhalf=s[half:len(s)];\n",
    "    if firsthalf==secondhalf:\n",
    "        print(\"String is symmetrical\")\n",
    "    else:\n",
    "        print(\"String is not symmetrical\");\n",
    "    \n",
    "\n",
    "s=input()\n",
    "\n",
    "if len(s)%2!=0:\n",
    "    print(\"String is not symmetrical for sure. It may or may not be pallindrome\")\n",
    "    pallindrome(s)\n",
    "else:\n",
    "    pallindrome(s)\n",
    "    symmetrical(s)\n",
    "    "
   ]
  },
  {
   "cell_type": "code",
   "execution_count": 46,
   "id": "adf588d8",
   "metadata": {},
   "outputs": [
    {
     "name": "stdout",
     "output_type": "stream",
     "text": [
      "the string is palindrome\n"
     ]
    }
   ],
   "source": [
    "# code\n",
    "string =\"amaama\"\n",
    "print(\"the string is palindrome\" if string==''.join(reversed(string)) else \"the string is not palindrome\")\n"
   ]
  },
  {
   "cell_type": "code",
   "execution_count": 48,
   "id": "41089d68",
   "metadata": {},
   "outputs": [
    {
     "name": "stdout",
     "output_type": "stream",
     "text": [
      "desserts\n"
     ]
    }
   ],
   "source": [
    "new = reversed(\"stressed\")\n",
    "print(''.join(new))\n",
    "\n"
   ]
  },
  {
   "cell_type": "code",
   "execution_count": null,
   "id": "f1e2ea2d",
   "metadata": {},
   "outputs": [],
   "source": []
  }
 ],
 "metadata": {
  "kernelspec": {
   "display_name": "Python 3 (ipykernel)",
   "language": "python",
   "name": "python3"
  },
  "language_info": {
   "codemirror_mode": {
    "name": "ipython",
    "version": 3
   },
   "file_extension": ".py",
   "mimetype": "text/x-python",
   "name": "python",
   "nbconvert_exporter": "python",
   "pygments_lexer": "ipython3",
   "version": "3.10.9"
  }
 },
 "nbformat": 4,
 "nbformat_minor": 5
}
