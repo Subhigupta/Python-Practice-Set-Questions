{
 "cells": [
  {
   "cell_type": "markdown",
   "id": "4809406a",
   "metadata": {},
   "source": [
    "## Approach 1 using split and .join"
   ]
  },
  {
   "cell_type": "code",
   "execution_count": 7,
   "id": "0abb7bd9",
   "metadata": {},
   "outputs": [
    {
     "name": "stdout",
     "output_type": "stream",
     "text": [
      "Enter the StringShubhiGuptah\n",
      "Character to be removedh\n",
      "SubiGupta\n"
     ]
    }
   ],
   "source": [
    "def remove_letters(s,remv):\n",
    "    after_remv=s.split(remv)\n",
    "    new_s=\"\".join(after_remv);\n",
    "    return new_s\n",
    "\n",
    "if __name__==\"__main__\":\n",
    "    s=input(\"Enter the String\");\n",
    "    remv=input(\"Character to be removed\");\n",
    "    print(remove_letters(s,remv))"
   ]
  },
  {
   "cell_type": "markdown",
   "id": "5108be97",
   "metadata": {},
   "source": [
    "## Approach 2 using replace()"
   ]
  },
  {
   "cell_type": "code",
   "execution_count": 18,
   "id": "28676093",
   "metadata": {},
   "outputs": [
    {
     "name": "stdout",
     "output_type": "stream",
     "text": [
      "Enter the string:Shubhi\n",
      "The string after removal of all occurences:Subi\n",
      "The string after removal of one occurrence:Subhi\n",
      "The string after removal of one occurrence:Subi\n"
     ]
    }
   ],
   "source": [
    "str=input(\"Enter the string:\");\n",
    "new_str=str.replace('h',\"\");\n",
    "\n",
    "print(\"The string after removal of all occurences:\"+ new_str) #all occurences of h are removed\n",
    "\n",
    "new_str_1=str.replace('h',\"\",1)\n",
    "print(\"The string after removal of one occurrence:\"+ new_str_1) #First occurences of h are removed\n",
    "new_str_2=new_str_1.replace('h',\"\",1)\n",
    "print(\"The string after removal of one occurrence:\"+ new_str_2)"
   ]
  },
  {
   "cell_type": "markdown",
   "id": "1a5d2294",
   "metadata": {},
   "source": [
    "## Approach 3 using recursion\n"
   ]
  },
  {
   "cell_type": "code",
   "execution_count": 25,
   "id": "6d412ded",
   "metadata": {},
   "outputs": [
    {
     "name": "stdout",
     "output_type": "stream",
     "text": [
      "Enter a string:Shubhi\n",
      "Enter the position to be removed3\n"
     ]
    },
    {
     "data": {
      "text/plain": [
       "'Shuhi'"
      ]
     },
     "execution_count": 25,
     "metadata": {},
     "output_type": "execute_result"
    }
   ],
   "source": [
    "def remove_ith_character(s,pos):\n",
    "    if pos==0:\n",
    "        return s[1:]\n",
    "    return s[0]+remove_ith_character(s[1:],pos-1)\n",
    "\n",
    "s=input(\"Enter a string:\");\n",
    "pos=int(input(\"Enter the position to be removed\"))\n",
    "remove_ith_character(s,pos)"
   ]
  },
  {
   "cell_type": "markdown",
   "id": "bbd6583e",
   "metadata": {},
   "source": [
    "## Remove the i_th character using slice"
   ]
  },
  {
   "cell_type": "code",
   "execution_count": 22,
   "id": "848de1ae",
   "metadata": {},
   "outputs": [
    {
     "name": "stdout",
     "output_type": "stream",
     "text": [
      "Enter the string:Shubhi\n",
      "String after removing ith character: Shuhi\n"
     ]
    }
   ],
   "source": [
    "# we will have to give index from what position to remove\n",
    "pos=3\n",
    "s=input(\"Enter the string:\")\n",
    "new_str=s[0:pos] + s[pos+1:]\n",
    "print(\"String after removing ith character:\", new_str)"
   ]
  },
  {
   "cell_type": "code",
   "execution_count": null,
   "id": "911cc1e5",
   "metadata": {},
   "outputs": [],
   "source": []
  }
 ],
 "metadata": {
  "kernelspec": {
   "display_name": "Python 3 (ipykernel)",
   "language": "python",
   "name": "python3"
  },
  "language_info": {
   "codemirror_mode": {
    "name": "ipython",
    "version": 3
   },
   "file_extension": ".py",
   "mimetype": "text/x-python",
   "name": "python",
   "nbconvert_exporter": "python",
   "pygments_lexer": "ipython3",
   "version": "3.10.9"
  }
 },
 "nbformat": 4,
 "nbformat_minor": 5
}
