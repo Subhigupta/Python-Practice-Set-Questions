{
 "cells": [
  {
   "cell_type": "code",
   "execution_count": 78,
   "id": "5e4c0dbb",
   "metadata": {},
   "outputs": [
    {
     "data": {
      "text/plain": [
       "'Code to check duplicate words in a document. I am taking input which is stored in a variable called document, I am assuming that in a test case paragraph that only commas, whitespaces and fullstops are there to split upon. Then I have defined a function called split which is first splitting based on commas and then splitting the words around whitespaces.'"
      ]
     },
     "execution_count": 78,
     "metadata": {},
     "output_type": "execute_result"
    }
   ],
   "source": [
    "document = \"Code to check duplicate words in a document. I am taking input which is stored in a variable called document, I am assuming that in a test case paragraph that only commas, whitespaces and fullstops are there to split upon. Then I have defined a function called split which is first splitting based on commas and then splitting the words around whitespaces.\"\n",
    "document #the input variable"
   ]
  },
  {
   "cell_type": "code",
   "execution_count": 80,
   "id": "5e0bc376",
   "metadata": {},
   "outputs": [
    {
     "name": "stdout",
     "output_type": "stream",
     "text": [
      "[''\n",
      " ' I AM TAKING INPUT WHICH IS STORED IN A VARIABLE CALLED DOCUMENT, I AM ASSUMING THAT IN A TEST CASE PARAGRAPH THAT ONLY COMMAS, WHITESPACES AND FULLSTOPS ARE THERE TO SPLIT UPON'\n",
      " ' THEN I HAVE DEFINED A FUNCTION CALLED SPLIT WHICH IS FIRST SPLITTING BASED ON COMMAS AND THEN SPLITTING THE WORDS AROUND WHITESPACES'\n",
      " 'CODE TO CHECK DUPLICATE WORDS IN A DOCUMENT']\n"
     ]
    }
   ],
   "source": [
    "import numpy as np\n",
    "sentences=np.unique(np.char.upper(np.array(document.split(\".\")))) # Extracting each sentence in the document variable\n",
    "print(sentences)"
   ]
  },
  {
   "cell_type": "code",
   "execution_count": 81,
   "id": "83427801",
   "metadata": {},
   "outputs": [],
   "source": [
    "def split(sentence):\n",
    "    subparts_in_sentence=sentence.split(\",\") # Spliiting within a particular sentence around commas\n",
    "    words_in_sentence=[];\n",
    "    for i in range(len(subparts_in_sentence)):\n",
    "        words=subparts_in_sentence[i].split() # Then splitting around whitespaces within the subparts in a sentence\n",
    "        for j in range(len(words)):\n",
    "            words_in_sentence.append(words[j]) # Calculating all the woords in a sentence and returning the list\n",
    "    return words_in_sentence\n",
    "    \n",
    "    \n",
    "unique_words=[] # An empty array to store unique words in  a document\n",
    "duplicate_words=[] # An empty array to store duplicate words in  a document\n",
    "for i in range(len(sentences)):\n",
    "    sentence=sentences[i];\n",
    "    word_in_sentence=split(sentence) #calling the split function\n",
    "    for j in range(len(word_in_sentence)):\n",
    "        word=word_in_sentence[j];\n",
    "        if word not in unique_words:\n",
    "            unique_words.append(word)\n",
    "        else:\n",
    "            duplicate_words.append(word)"
   ]
  },
  {
   "cell_type": "code",
   "execution_count": 82,
   "id": "ab9ec4c2",
   "metadata": {},
   "outputs": [
    {
     "data": {
      "text/plain": [
       "['I',\n",
       " 'AM',\n",
       " 'IN',\n",
       " 'A',\n",
       " 'THAT',\n",
       " 'I',\n",
       " 'A',\n",
       " 'CALLED',\n",
       " 'SPLIT',\n",
       " 'WHICH',\n",
       " 'IS',\n",
       " 'COMMAS',\n",
       " 'AND',\n",
       " 'THEN',\n",
       " 'SPLITTING',\n",
       " 'WHITESPACES',\n",
       " 'TO',\n",
       " 'WORDS',\n",
       " 'IN',\n",
       " 'A',\n",
       " 'DOCUMENT']"
      ]
     },
     "execution_count": 82,
     "metadata": {},
     "output_type": "execute_result"
    }
   ],
   "source": [
    "duplicate_words"
   ]
  },
  {
   "cell_type": "code",
   "execution_count": 83,
   "id": "cdc1429a",
   "metadata": {},
   "outputs": [
    {
     "data": {
      "text/plain": [
       "['I',\n",
       " 'AM',\n",
       " 'TAKING',\n",
       " 'INPUT',\n",
       " 'WHICH',\n",
       " 'IS',\n",
       " 'STORED',\n",
       " 'IN',\n",
       " 'A',\n",
       " 'VARIABLE',\n",
       " 'CALLED',\n",
       " 'DOCUMENT',\n",
       " 'ASSUMING',\n",
       " 'THAT',\n",
       " 'TEST',\n",
       " 'CASE',\n",
       " 'PARAGRAPH',\n",
       " 'ONLY',\n",
       " 'COMMAS',\n",
       " 'WHITESPACES',\n",
       " 'AND',\n",
       " 'FULLSTOPS',\n",
       " 'ARE',\n",
       " 'THERE',\n",
       " 'TO',\n",
       " 'SPLIT',\n",
       " 'UPON',\n",
       " 'THEN',\n",
       " 'HAVE',\n",
       " 'DEFINED',\n",
       " 'FUNCTION',\n",
       " 'FIRST',\n",
       " 'SPLITTING',\n",
       " 'BASED',\n",
       " 'ON',\n",
       " 'THE',\n",
       " 'WORDS',\n",
       " 'AROUND',\n",
       " 'CODE',\n",
       " 'CHECK',\n",
       " 'DUPLICATE']"
      ]
     },
     "execution_count": 83,
     "metadata": {},
     "output_type": "execute_result"
    }
   ],
   "source": [
    "unique_words"
   ]
  },
  {
   "cell_type": "code",
   "execution_count": null,
   "id": "f220d803",
   "metadata": {},
   "outputs": [],
   "source": []
  }
 ],
 "metadata": {
  "kernelspec": {
   "display_name": "Python 3 (ipykernel)",
   "language": "python",
   "name": "python3"
  },
  "language_info": {
   "codemirror_mode": {
    "name": "ipython",
    "version": 3
   },
   "file_extension": ".py",
   "mimetype": "text/x-python",
   "name": "python",
   "nbconvert_exporter": "python",
   "pygments_lexer": "ipython3",
   "version": "3.10.9"
  }
 },
 "nbformat": 4,
 "nbformat_minor": 5
}
