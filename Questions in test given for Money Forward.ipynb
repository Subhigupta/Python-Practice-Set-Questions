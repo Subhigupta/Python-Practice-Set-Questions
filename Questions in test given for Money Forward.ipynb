{
 "cells": [
  {
   "cell_type": "markdown",
   "id": "3f074639",
   "metadata": {},
   "source": [
    "## Approach 1"
   ]
  },
  {
   "cell_type": "code",
   "execution_count": 3,
   "id": "8bc28bcb",
   "metadata": {},
   "outputs": [
    {
     "name": "stdout",
     "output_type": "stream",
     "text": [
      "Enter daily points1\n",
      "Enter bonus points5\n",
      "Enter goal points10\n",
      "True\n"
     ]
    }
   ],
   "source": [
    "import sys\n",
    "\n",
    "def anniversary_check(day):\n",
    "    str_day=str(day);\n",
    "    if '7' in str(day):\n",
    "        print(True)\n",
    "    else :\n",
    "        print(False)\n",
    "def minimum_no_of_days(a,b,n):\n",
    "    min_days=0;\n",
    "    point=a;\n",
    "    day=1;\n",
    "    anniversary_check(17)\n",
    "    # while points<=n:\n",
    "    #     point=point+a;\n",
    "    #     day=day+1;\n",
    "\n",
    "if __name__ == '__main__':\n",
    "   a=int(input(\"Enter daily points\"));\n",
    "   b=int(input(\"Enter bonus points\"));\n",
    "   n=int(input(\"Enter goal points\"));\n",
    "   minimum_no_of_days(a,b,n)"
   ]
  },
  {
   "cell_type": "code",
   "execution_count": 17,
   "id": "88c401e2",
   "metadata": {},
   "outputs": [
    {
     "ename": "KeyboardInterrupt",
     "evalue": "Interrupted by user",
     "output_type": "error",
     "traceback": [
      "\u001b[1;31m---------------------------------------------------------------------------\u001b[0m",
      "\u001b[1;31mKeyboardInterrupt\u001b[0m                         Traceback (most recent call last)",
      "Cell \u001b[1;32mIn[17], line 21\u001b[0m\n\u001b[0;32m     18\u001b[0m     \u001b[38;5;28;01mreturn\u001b[39;00m day\u001b[38;5;241m-\u001b[39m\u001b[38;5;241m1\u001b[39m\n\u001b[0;32m     20\u001b[0m \u001b[38;5;28;01mif\u001b[39;00m \u001b[38;5;18m__name__\u001b[39m \u001b[38;5;241m==\u001b[39m \u001b[38;5;124m'\u001b[39m\u001b[38;5;124m__main__\u001b[39m\u001b[38;5;124m'\u001b[39m:\n\u001b[1;32m---> 21\u001b[0m    a\u001b[38;5;241m=\u001b[39m\u001b[38;5;28mfloat\u001b[39m(\u001b[38;5;28;43minput\u001b[39;49m\u001b[43m(\u001b[49m\u001b[38;5;124;43m\"\u001b[39;49m\u001b[38;5;124;43mEnter daily points\u001b[39;49m\u001b[38;5;124;43m\"\u001b[39;49m\u001b[43m)\u001b[49m);\n\u001b[0;32m     22\u001b[0m    b\u001b[38;5;241m=\u001b[39m\u001b[38;5;28mint\u001b[39m(\u001b[38;5;28minput\u001b[39m(\u001b[38;5;124m\"\u001b[39m\u001b[38;5;124mEnter bonus points\u001b[39m\u001b[38;5;124m\"\u001b[39m));\n\u001b[0;32m     23\u001b[0m    n\u001b[38;5;241m=\u001b[39m\u001b[38;5;28mint\u001b[39m(\u001b[38;5;28minput\u001b[39m(\u001b[38;5;124m\"\u001b[39m\u001b[38;5;124mEnter goal points\u001b[39m\u001b[38;5;124m\"\u001b[39m));\n",
      "File \u001b[1;32m~\\anaconda3\\envs\\tensorflow\\lib\\site-packages\\ipykernel\\kernelbase.py:1175\u001b[0m, in \u001b[0;36mKernel.raw_input\u001b[1;34m(self, prompt)\u001b[0m\n\u001b[0;32m   1171\u001b[0m \u001b[38;5;28;01mif\u001b[39;00m \u001b[38;5;129;01mnot\u001b[39;00m \u001b[38;5;28mself\u001b[39m\u001b[38;5;241m.\u001b[39m_allow_stdin:\n\u001b[0;32m   1172\u001b[0m     \u001b[38;5;28;01mraise\u001b[39;00m StdinNotImplementedError(\n\u001b[0;32m   1173\u001b[0m         \u001b[38;5;124m\"\u001b[39m\u001b[38;5;124mraw_input was called, but this frontend does not support input requests.\u001b[39m\u001b[38;5;124m\"\u001b[39m\n\u001b[0;32m   1174\u001b[0m     )\n\u001b[1;32m-> 1175\u001b[0m \u001b[38;5;28;01mreturn\u001b[39;00m \u001b[38;5;28;43mself\u001b[39;49m\u001b[38;5;241;43m.\u001b[39;49m\u001b[43m_input_request\u001b[49m\u001b[43m(\u001b[49m\n\u001b[0;32m   1176\u001b[0m \u001b[43m    \u001b[49m\u001b[38;5;28;43mstr\u001b[39;49m\u001b[43m(\u001b[49m\u001b[43mprompt\u001b[49m\u001b[43m)\u001b[49m\u001b[43m,\u001b[49m\n\u001b[0;32m   1177\u001b[0m \u001b[43m    \u001b[49m\u001b[38;5;28;43mself\u001b[39;49m\u001b[38;5;241;43m.\u001b[39;49m\u001b[43m_parent_ident\u001b[49m\u001b[43m[\u001b[49m\u001b[38;5;124;43m\"\u001b[39;49m\u001b[38;5;124;43mshell\u001b[39;49m\u001b[38;5;124;43m\"\u001b[39;49m\u001b[43m]\u001b[49m\u001b[43m,\u001b[49m\n\u001b[0;32m   1178\u001b[0m \u001b[43m    \u001b[49m\u001b[38;5;28;43mself\u001b[39;49m\u001b[38;5;241;43m.\u001b[39;49m\u001b[43mget_parent\u001b[49m\u001b[43m(\u001b[49m\u001b[38;5;124;43m\"\u001b[39;49m\u001b[38;5;124;43mshell\u001b[39;49m\u001b[38;5;124;43m\"\u001b[39;49m\u001b[43m)\u001b[49m\u001b[43m,\u001b[49m\n\u001b[0;32m   1179\u001b[0m \u001b[43m    \u001b[49m\u001b[43mpassword\u001b[49m\u001b[38;5;241;43m=\u001b[39;49m\u001b[38;5;28;43;01mFalse\u001b[39;49;00m\u001b[43m,\u001b[49m\n\u001b[0;32m   1180\u001b[0m \u001b[43m\u001b[49m\u001b[43m)\u001b[49m\n",
      "File \u001b[1;32m~\\anaconda3\\envs\\tensorflow\\lib\\site-packages\\ipykernel\\kernelbase.py:1217\u001b[0m, in \u001b[0;36mKernel._input_request\u001b[1;34m(self, prompt, ident, parent, password)\u001b[0m\n\u001b[0;32m   1214\u001b[0m             \u001b[38;5;28;01mbreak\u001b[39;00m\n\u001b[0;32m   1215\u001b[0m \u001b[38;5;28;01mexcept\u001b[39;00m \u001b[38;5;167;01mKeyboardInterrupt\u001b[39;00m:\n\u001b[0;32m   1216\u001b[0m     \u001b[38;5;66;03m# re-raise KeyboardInterrupt, to truncate traceback\u001b[39;00m\n\u001b[1;32m-> 1217\u001b[0m     \u001b[38;5;28;01mraise\u001b[39;00m \u001b[38;5;167;01mKeyboardInterrupt\u001b[39;00m(\u001b[38;5;124m\"\u001b[39m\u001b[38;5;124mInterrupted by user\u001b[39m\u001b[38;5;124m\"\u001b[39m) \u001b[38;5;28;01mfrom\u001b[39;00m \u001b[38;5;28mNone\u001b[39m\n\u001b[0;32m   1218\u001b[0m \u001b[38;5;28;01mexcept\u001b[39;00m \u001b[38;5;167;01mException\u001b[39;00m:\n\u001b[0;32m   1219\u001b[0m     \u001b[38;5;28mself\u001b[39m\u001b[38;5;241m.\u001b[39mlog\u001b[38;5;241m.\u001b[39mwarning(\u001b[38;5;124m\"\u001b[39m\u001b[38;5;124mInvalid Message:\u001b[39m\u001b[38;5;124m\"\u001b[39m, exc_info\u001b[38;5;241m=\u001b[39m\u001b[38;5;28;01mTrue\u001b[39;00m)\n",
      "\u001b[1;31mKeyboardInterrupt\u001b[0m: Interrupted by user"
     ]
    }
   ],
   "source": [
    "import sys\n",
    "\n",
    "def anniversary_check(day):\n",
    "    str_day=str(day);\n",
    "    if '7' in str(day):\n",
    "        return True\n",
    "    else :\n",
    "        return False\n",
    "def minimum_no_of_days(a,b,n):\n",
    "    point=0;\n",
    "    day=0;\n",
    "    while point<=n:\n",
    "        if anniversary_check(day):\n",
    "            point=point+a+b;\n",
    "        else:\n",
    "            point=point+a;\n",
    "        day=day+1;\n",
    "    return day-1\n",
    "\n",
    "if __name__ == '__main__':\n",
    "   a=float(input(\"Enter daily points\"));\n",
    "   b=int(input(\"Enter bonus points\"));\n",
    "   n=int(input(\"Enter goal points\"));\n",
    "   print(minimum_no_of_days(a,b,n))\n"
   ]
  },
  {
   "cell_type": "code",
   "execution_count": null,
   "id": "0b133adc",
   "metadata": {},
   "outputs": [],
   "source": [
    "import sys\n",
    "\n",
    "def anniversary_check(day):\n",
    "    str_day=str(day);\n",
    "    if '7' in str(day):\n",
    "        return True\n",
    "    else :\n",
    "        return False\n",
    "def minimum_no_of_days(a,b,n):\n",
    "    point=0;\n",
    "    day=0;\n",
    "    while point<=n:\n",
    "        if anniversary_check(day):\n",
    "            point=point+a+b;\n",
    "        else:\n",
    "            point=point+a;\n",
    "        day=day+1;\n",
    "    print(day-1)\n",
    "\n",
    "def main(lines):\n",
    "    a=int(lines[0]);\n",
    "    b=int(lines[1]);\n",
    "    n=int(lines[2]);\n",
    "    minimum_no_of_days(a,b,n)\n",
    "\n",
    "if __name__ == '__main__':\n",
    "    lines = [1,5,10]\n",
    "    for l in sys.stdin:\n",
    "        lines.append(l.rstrip('\\r\\n'))\n",
    "    main(lines)\n"
   ]
  },
  {
   "cell_type": "code",
   "execution_count": 23,
   "id": "ffecfb06",
   "metadata": {},
   "outputs": [
    {
     "name": "stdout",
     "output_type": "stream",
     "text": [
      "<Response [200]>\n",
      "{'seed': 'b0c2b89f-4862-4414-8728-ddb0b36076ba', 'n': 3, 'result': 194}\n"
     ]
    }
   ],
   "source": [
    "import requests\n",
    " \n",
    "URL = \"http://challenge-server.code-check.io/api/recursive/ask\"\n",
    "\n",
    "PARAMETERS = {'n':3,'seed':\"b0c2b89f-4862-4414-8728-ddb0b36076ba\"}\n",
    " \n",
    "response = requests.get(url = URL, params = PARAMETERS)\n",
    "\n",
    "print(response)\n",
    " \n",
    "data = response.json()\n",
    "\n",
    "print(data)"
   ]
  },
  {
   "cell_type": "code",
   "execution_count": 20,
   "id": "0b96163d",
   "metadata": {},
   "outputs": [],
   "source": [
    "data=r.json()"
   ]
  },
  {
   "cell_type": "code",
   "execution_count": 29,
   "id": "119afcd8",
   "metadata": {},
   "outputs": [
    {
     "name": "stdout",
     "output_type": "stream",
     "text": [
      "194\n"
     ]
    }
   ],
   "source": [
    "print(data[\"result\"])"
   ]
  },
  {
   "cell_type": "code",
   "execution_count": 48,
   "id": "7ea5c03c",
   "metadata": {},
   "outputs": [
    {
     "name": "stdout",
     "output_type": "stream",
     "text": [
      "366\n"
     ]
    }
   ],
   "source": [
    "import requests\n",
    "\n",
    "def f(n):\n",
    "    if n==0:\n",
    "        return 1;\n",
    "    elif n==2:\n",
    "        return 2;\n",
    "    elif n%2 == 0:\n",
    "        return (f(n - 1) + f(n - 2) + f(n - 3) + f(n - 4))\n",
    "    else:\n",
    "        data=askServer(n)\n",
    "        return data[\"result\"]\n",
    "    \n",
    "def askServer(n):\n",
    "    URL = \"http://challenge-server.code-check.io/api/recursive/ask\"\n",
    "    PARAMETERS = {'n':n,'seed':\"b0c2b89f-4862-4414-8728-ddb0b36076ba\"}\n",
    "    response = requests.get(url = URL, params = PARAMETERS)\n",
    "    data = response.json()\n",
    "    return data\n",
    "    \n",
    "print(f(4))"
   ]
  },
  {
   "cell_type": "code",
   "execution_count": 64,
   "id": "0d72406a",
   "metadata": {},
   "outputs": [
    {
     "name": "stdout",
     "output_type": "stream",
     "text": [
      "C:\\Users\\subhi\\AppData\\Roaming\\jupyter\\runtime\\kernel-ee40801d-5757-4555-b683-e8e08236fec8.json\n",
      "113\n"
     ]
    }
   ],
   "source": [
    "import sys\n",
    "import requests\n",
    " \n",
    "def main(argv):\n",
    "    def f(n):\n",
    "        if n==0:\n",
    "            return 1;\n",
    "        elif n==2:\n",
    "            return 2;\n",
    "        elif n%2 == 0:\n",
    "            return (f(n - 1) + f(n - 2) + f(n - 3) + f(n - 4))\n",
    "        else:\n",
    "            data=askServer(n)\n",
    "            return data[\"result\"]\n",
    "        \n",
    "    def askServer(n):\n",
    "        URL = \"http://challenge-server.code-check.io/api/recursive/ask\"\n",
    "        PARAMETERS = {'n':n,'seed':argv[0]}\n",
    "        response = requests.get(url = URL, params = PARAMETERS)\n",
    "        data = response.json()\n",
    "        return data\n",
    "    PARAMETERS = {'n':argv[1],'seed':argv[0]}\n",
    "    n=argv[1]\n",
    "    print(n)\n",
    "    print(f(4));\n",
    "if __name__ == '__main__':\n",
    "    main(sys.argv[1:])"
   ]
  },
  {
   "cell_type": "code",
   "execution_count": 75,
   "id": "d95a351f",
   "metadata": {},
   "outputs": [
    {
     "name": "stdout",
     "output_type": "stream",
     "text": [
      "-f\n"
     ]
    }
   ],
   "source": [
    "import sys\n",
    "import requests\n",
    " \n",
    "def main(argv):\n",
    "    \n",
    "    def f(n):\n",
    "        if n==0:\n",
    "            return 1;\n",
    "        elif n==2:\n",
    "            return 2;\n",
    "        elif n%2 == 0:\n",
    "            return (f(n - 1) + f(n - 2) + f(n - 3) + f(n - 4))\n",
    "        else:\n",
    "            data=askServer(n)\n",
    "            return data[\"result\"]\n",
    "        \n",
    "    def askServer(n):\n",
    "        URL = \"http://challenge-server.code-check.io/api/recursive/ask\"\n",
    "        PARAMETERS = {'n':n,'seed':str(argv[0])}\n",
    "        #print(argv[0])\n",
    "        response = requests.get(url = URL, params = PARAMETERS)\n",
    "        data = response.json()\n",
    "        return data\n",
    "\n",
    "    print(sys.argv[1]);\n",
    "if __name__ == '__main__':\n",
    "    main(sys.argv[1:])\n"
   ]
  },
  {
   "cell_type": "code",
   "execution_count": null,
   "id": "f731dec6",
   "metadata": {},
   "outputs": [],
   "source": []
  }
 ],
 "metadata": {
  "kernelspec": {
   "display_name": "Python 3 (ipykernel)",
   "language": "python",
   "name": "python3"
  },
  "language_info": {
   "codemirror_mode": {
    "name": "ipython",
    "version": 3
   },
   "file_extension": ".py",
   "mimetype": "text/x-python",
   "name": "python",
   "nbconvert_exporter": "python",
   "pygments_lexer": "ipython3",
   "version": "3.10.9"
  }
 },
 "nbformat": 4,
 "nbformat_minor": 5
}
