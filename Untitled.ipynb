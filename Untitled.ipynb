{
 "cells": [
  {
   "cell_type": "code",
   "execution_count": null,
   "id": "b64d79fe",
   "metadata": {},
   "outputs": [],
   "source": [
    "import sys\n",
    "\n",
    "def main(lines):\n",
    "    A=int(lines[0][0])\n",
    "    B=int(lines[0][1])\n",
    "    C=int(lines[0][2])\n",
    "    D=int(lines[0][3])\n",
    "    n=int(lines[1])\n",
    "    total=0\n",
    "    for i in range(n):\n",
    "        t=int(lines[i+2][0][0:2])\n",
    "        l=int(lines[i+2][1])\n",
    "        total=total+fare(A,B,C,D,n,t,l)\n",
    "    print(total)\n",
    "    # for i, v in enumerate(lines):\n",
    "    #     print(\"line[{0}]: {1}\".format(i, v))\n",
    "def fare(A,B,C,D,n,t,l):\n",
    "    #t=int(t[0:2])\n",
    "    print(A,B,C,D,n,t,l)\n",
    "    f=0\n",
    "    if l<=A :\n",
    "        if t<22:\n",
    "            f=B\n",
    "            print(f)\n",
    "        else:\n",
    "            f=1.2*B\n",
    "    if l>A:\n",
    "        if t<22:\n",
    "            f=B+D\n",
    "        else:\n",
    "            f=1.2*(B)+D\n",
    "    print(f)\n",
    "    return round(f)\n",
    "\n",
    "if __name__ == '__main__':\n",
    "    lines = [1000,250,650,200,2,\"22:00\",1500]\n",
    "    for l in sys.stdin:\n",
    "        lines.append(l.rstrip('\\r\\n'))\n",
    "    main(lines)\n"
   ]
  }
 ],
 "metadata": {
  "kernelspec": {
   "display_name": "Python 3 (ipykernel)",
   "language": "python",
   "name": "python3"
  },
  "language_info": {
   "codemirror_mode": {
    "name": "ipython",
    "version": 3
   },
   "file_extension": ".py",
   "mimetype": "text/x-python",
   "name": "python",
   "nbconvert_exporter": "python",
   "pygments_lexer": "ipython3",
   "version": "3.10.9"
  }
 },
 "nbformat": 4,
 "nbformat_minor": 5
}
