{
 "cells": [
  {
   "cell_type": "code",
   "execution_count": 145,
   "id": "5b3dd6cc",
   "metadata": {},
   "outputs": [
    {
     "data": {
      "text/plain": [
       "'Code to check duplicate words in a document. I am taking input which is stored in a variable called document, I am assuming that in a test case paragraph that only commas, whitespaces and fullstops are there to split upon. Then I have defined a function called split which is first splitting based on commas and then splitting the words around whitespaces.'"
      ]
     },
     "execution_count": 145,
     "metadata": {},
     "output_type": "execute_result"
    }
   ],
   "source": [
    "document = \"Code to check duplicate words in a document. I am taking input which is stored in a variable called document, I am assuming that in a test case paragraph that only commas, whitespaces and fullstops are there to split upon. Then I have defined a function called split which is first splitting based on commas and then splitting the words around whitespaces.\"\n",
    "document #the input variable"
   ]
  },
  {
   "cell_type": "code",
   "execution_count": 146,
   "id": "03927a47",
   "metadata": {},
   "outputs": [
    {
     "name": "stdout",
     "output_type": "stream",
     "text": [
      "['CODE TO CHECK DUPLICATE WORDS IN A DOCUMENT'\n",
      " ' I AM TAKING INPUT WHICH IS STORED IN A VARIABLE CALLED DOCUMENT, I AM ASSUMING THAT IN A TEST CASE PARAGRAPH THAT ONLY COMMAS, WHITESPACES AND FULLSTOPS ARE THERE TO SPLIT UPON'\n",
      " ' THEN I HAVE DEFINED A FUNCTION CALLED SPLIT WHICH IS FIRST SPLITTING BASED ON COMMAS AND THEN SPLITTING THE WORDS AROUND WHITESPACES'\n",
      " '']\n"
     ]
    }
   ],
   "source": [
    "import numpy as np\n",
    "sentences=np.char.upper(np.array(document.split(\".\"))) # Extracting each sentence in the document variable\n",
    "print(sentences)"
   ]
  },
  {
   "cell_type": "code",
   "execution_count": 147,
   "id": "319564a5",
   "metadata": {},
   "outputs": [],
   "source": [
    "def split(sentence):\n",
    "    subparts_in_sentence=sentence.split(\",\") # Spliiting within a particular sentence around commas\n",
    "    words_in_sentence=[];\n",
    "    for i in range(len(subparts_in_sentence)):\n",
    "        words=subparts_in_sentence[i].split() # Then splitting around whitespaces within the subparts in a sentence\n",
    "        for j in range(len(words)):\n",
    "            words_in_sentence.append(words[j]) # Calculating all the woords in a sentence and returning the list\n",
    "    return words_in_sentence\n",
    "    \n",
    "    \n",
    "unique_words=[] # An empty array to store unique words in  a document\n",
    "duplicate_words=[] # An empty array to store duplicate words in  a document\n",
    "for i in range(len(sentences)):\n",
    "    sentence=sentences[i];\n",
    "    word_in_sentence=split(sentence) #calling the split function\n",
    "    for j in range(len(word_in_sentence)):\n",
    "        word=word_in_sentence[j];\n",
    "        if word not in unique_words:\n",
    "            unique_words.append(word) #Storing Unique Words\n",
    "        else:\n",
    "            duplicate_words.append(word) #Storing Duplicate Words"
   ]
  },
  {
   "cell_type": "code",
   "execution_count": 148,
   "id": "b0394a68",
   "metadata": {},
   "outputs": [
    {
     "data": {
      "text/plain": [
       "['IN',\n",
       " 'A',\n",
       " 'DOCUMENT',\n",
       " 'I',\n",
       " 'AM',\n",
       " 'IN',\n",
       " 'A',\n",
       " 'THAT',\n",
       " 'TO',\n",
       " 'I',\n",
       " 'A',\n",
       " 'CALLED',\n",
       " 'SPLIT',\n",
       " 'WHICH',\n",
       " 'IS',\n",
       " 'COMMAS',\n",
       " 'AND',\n",
       " 'THEN',\n",
       " 'SPLITTING',\n",
       " 'WORDS',\n",
       " 'WHITESPACES']"
      ]
     },
     "execution_count": 148,
     "metadata": {},
     "output_type": "execute_result"
    }
   ],
   "source": [
    "duplicate_words"
   ]
  },
  {
   "cell_type": "code",
   "execution_count": 149,
   "id": "54a400b0",
   "metadata": {},
   "outputs": [
    {
     "data": {
      "text/plain": [
       "['CODE',\n",
       " 'TO',\n",
       " 'CHECK',\n",
       " 'DUPLICATE',\n",
       " 'WORDS',\n",
       " 'IN',\n",
       " 'A',\n",
       " 'DOCUMENT',\n",
       " 'I',\n",
       " 'AM',\n",
       " 'TAKING',\n",
       " 'INPUT',\n",
       " 'WHICH',\n",
       " 'IS',\n",
       " 'STORED',\n",
       " 'VARIABLE',\n",
       " 'CALLED',\n",
       " 'ASSUMING',\n",
       " 'THAT',\n",
       " 'TEST',\n",
       " 'CASE',\n",
       " 'PARAGRAPH',\n",
       " 'ONLY',\n",
       " 'COMMAS',\n",
       " 'WHITESPACES',\n",
       " 'AND',\n",
       " 'FULLSTOPS',\n",
       " 'ARE',\n",
       " 'THERE',\n",
       " 'SPLIT',\n",
       " 'UPON',\n",
       " 'THEN',\n",
       " 'HAVE',\n",
       " 'DEFINED',\n",
       " 'FUNCTION',\n",
       " 'FIRST',\n",
       " 'SPLITTING',\n",
       " 'BASED',\n",
       " 'ON',\n",
       " 'THE',\n",
       " 'AROUND']"
      ]
     },
     "execution_count": 149,
     "metadata": {},
     "output_type": "execute_result"
    }
   ],
   "source": [
    "unique_words"
   ]
  },
  {
   "cell_type": "code",
   "execution_count": 151,
   "id": "21a2e3b2",
   "metadata": {},
   "outputs": [
    {
     "data": {
      "text/plain": [
       "'CODE TO CHECK DUPLICATE WORDS IN A DOCUMENT I AM TAKING INPUT WHICH IS STORED VARIABLE CALLED ASSUMING THAT TEST CASE PARAGRAPH ONLY COMMAS WHITESPACES AND FULLSTOPS ARE THERE SPLIT UPON THEN HAVE DEFINED FUNCTION FIRST SPLITTING BASED ON THE AROUND'"
      ]
     },
     "execution_count": 151,
     "metadata": {},
     "output_type": "execute_result"
    }
   ],
   "source": [
    "\" \".join(unique_words) #joining unique words to get rid of all multiple occurences"
   ]
  },
  {
   "cell_type": "code",
   "execution_count": 153,
   "id": "f83a61f5",
   "metadata": {},
   "outputs": [],
   "source": [
    "# new_document\n",
    "# for i in range (len(duplicate_words)):\n",
    "#     print(duplicate_words[i])\n",
    "#     indexes=[j for j in range(len(document)) if document.upper().startswith(duplicate_words[i], j)]\n",
    "#     print(indexes)\n",
    "# #     for k in range(1:len(indexes)):\n",
    "# #         #document = document[:indexes[k]] + document[indexes[k]+1:]"
   ]
  },
  {
   "cell_type": "code",
   "execution_count": null,
   "id": "980b7d14",
   "metadata": {},
   "outputs": [],
   "source": []
  }
 ],
 "metadata": {
  "kernelspec": {
   "display_name": "Python 3 (ipykernel)",
   "language": "python",
   "name": "python3"
  },
  "language_info": {
   "codemirror_mode": {
    "name": "ipython",
    "version": 3
   },
   "file_extension": ".py",
   "mimetype": "text/x-python",
   "name": "python",
   "nbconvert_exporter": "python",
   "pygments_lexer": "ipython3",
   "version": "3.10.9"
  }
 },
 "nbformat": 4,
 "nbformat_minor": 5
}
