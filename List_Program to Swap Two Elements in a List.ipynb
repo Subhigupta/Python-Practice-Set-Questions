{
 "cells": [
  {
   "cell_type": "markdown",
   "id": "04a0ae22",
   "metadata": {},
   "source": [
    "## Approach 1 Using temp variable"
   ]
  },
  {
   "cell_type": "code",
   "execution_count": 5,
   "id": "002544ad",
   "metadata": {},
   "outputs": [
    {
     "name": "stdout",
     "output_type": "stream",
     "text": [
      "Original list is [1, 2, 3, 4, 5]\n",
      "[1, 4, 3, 2, 5]\n"
     ]
    }
   ],
   "source": [
    "def swap(pos1, pos2, list):\n",
    "    #Swapping using temporary variable\n",
    "    temp=list[pos1];\n",
    "    list[pos1]=list[pos2];\n",
    "    list[pos2]=temp;\n",
    "    return list;\n",
    "\n",
    "list=[1,2,3,4,5]\n",
    "print(\"Original list is\", list)\n",
    "print(swap(1,3,list))"
   ]
  },
  {
   "cell_type": "markdown",
   "id": "80b9e7db",
   "metadata": {},
   "source": [
    "## Approach 2 Using list.pop()"
   ]
  },
  {
   "cell_type": "code",
   "execution_count": 10,
   "id": "36f9fdc6",
   "metadata": {},
   "outputs": [
    {
     "name": "stdout",
     "output_type": "stream",
     "text": [
      "Original list is [1, 2, 3, 4, 5]\n",
      "[1, 4, 3, 2, 5]\n"
     ]
    }
   ],
   "source": [
    "def swap(pos1,pos2,list):\n",
    "    #pop out both elements\n",
    "    pos1_ele=list.pop(pos1);\n",
    "    pos2_ele=list.pop(pos2-1);\n",
    "    \n",
    "    #insert both elements\n",
    "    list.insert(pos1,pos2_ele);\n",
    "    list.insert(pos2,pos1_ele);\n",
    "    \n",
    "    return list\n",
    "\n",
    "list=[1,2,3,4,5]\n",
    "print(\"Original list is\", list)\n",
    "print(swap(1,3,list))"
   ]
  },
  {
   "cell_type": "code",
   "execution_count": null,
   "id": "95db5d36",
   "metadata": {},
   "outputs": [],
   "source": []
  }
 ],
 "metadata": {
  "kernelspec": {
   "display_name": "Python 3 (ipykernel)",
   "language": "python",
   "name": "python3"
  },
  "language_info": {
   "codemirror_mode": {
    "name": "ipython",
    "version": 3
   },
   "file_extension": ".py",
   "mimetype": "text/x-python",
   "name": "python",
   "nbconvert_exporter": "python",
   "pygments_lexer": "ipython3",
   "version": "3.10.9"
  }
 },
 "nbformat": 4,
 "nbformat_minor": 5
}
