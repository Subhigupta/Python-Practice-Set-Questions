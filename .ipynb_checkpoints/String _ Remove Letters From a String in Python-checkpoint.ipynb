{
 "cells": [
  {
   "cell_type": "markdown",
   "id": "c3e7cc99",
   "metadata": {},
   "source": [
    "## Approach 1 using split and .join"
   ]
  },
  {
   "cell_type": "code",
   "execution_count": 7,
   "id": "1dc839f5",
   "metadata": {},
   "outputs": [
    {
     "name": "stdout",
     "output_type": "stream",
     "text": [
      "Enter the StringShubhiGuptah\n",
      "Character to be removedh\n",
      "SubiGupta\n"
     ]
    }
   ],
   "source": [
    "def remove_letters(s,remv):\n",
    "    after_remv=s.split(remv)\n",
    "    new_s=\"\".join(after_remv);\n",
    "    return new_s\n",
    "\n",
    "if __name__==\"__main__\":\n",
    "    s=input(\"Enter the String\");\n",
    "    remv=input(\"Character to be removed\");\n",
    "    print(remove_letters(s,remv))"
   ]
  },
  {
   "cell_type": "markdown",
   "id": "dc977383",
   "metadata": {},
   "source": [
    "## Approach 2 using replace()"
   ]
  },
  {
   "cell_type": "code",
   "execution_count": 15,
   "id": "bed05b95",
   "metadata": {},
   "outputs": [
    {
     "name": "stdout",
     "output_type": "stream",
     "text": [
      "Enter the string:Shubhi\n",
      "The string after removal of all occurences:Subi\n",
      "The string after removal of one occurrence:Subhi\n"
     ]
    }
   ],
   "source": [
    "str=input(\"Enter the string:\");\n",
    "new_str=str.replace('h',\"\");\n",
    "\n",
    "print(\"The string after removal of all occurences:\"+ new_str) #all occurences of h are removed\n",
    "\n",
    "new_str_1=str.replace('h',\"\",1)\n",
    "print(\"The string after removal of one occurrence:\"+ new_str_1) #First occurences of h are removed"
   ]
  },
  {
   "cell_type": "markdown",
   "id": "8fa1c70d",
   "metadata": {},
   "source": [
    "## Approach 3 using recursion\n"
   ]
  },
  {
   "cell_type": "code",
   "execution_count": null,
   "id": "48634056",
   "metadata": {},
   "outputs": [],
   "source": []
  }
 ],
 "metadata": {
  "kernelspec": {
   "display_name": "Python 3 (ipykernel)",
   "language": "python",
   "name": "python3"
  },
  "language_info": {
   "codemirror_mode": {
    "name": "ipython",
    "version": 3
   },
   "file_extension": ".py",
   "mimetype": "text/x-python",
   "name": "python",
   "nbconvert_exporter": "python",
   "pygments_lexer": "ipython3",
   "version": "3.10.9"
  }
 },
 "nbformat": 4,
 "nbformat_minor": 5
}
