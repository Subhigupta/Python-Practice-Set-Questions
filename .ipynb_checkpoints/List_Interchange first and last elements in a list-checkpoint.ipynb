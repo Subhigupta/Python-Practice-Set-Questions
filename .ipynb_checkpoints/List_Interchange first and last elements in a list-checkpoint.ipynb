{
 "cells": [
  {
   "cell_type": "markdown",
   "id": "b6d54ec4",
   "metadata": {},
   "source": [
    "## Approach 1 "
   ]
  },
  {
   "cell_type": "code",
   "execution_count": 10,
   "id": "fd55aded",
   "metadata": {},
   "outputs": [
    {
     "name": "stdout",
     "output_type": "stream",
     "text": [
      "[4, 2, 3, 1]\n"
     ]
    }
   ],
   "source": [
    "def interchange(l):\n",
    "    new_l=[0 for i in range(len(l))];\n",
    "    new_l[0]=l[len(l)-1];\n",
    "    new_l[len(l)-1]=l[0];\n",
    "    for i in range(1,len(l)-1,1):\n",
    "        new_l[i]=l[i];\n",
    "    return(new_l)\n",
    "    \n",
    "l=[1,2,3,4];\n",
    "print(interchange(l))"
   ]
  },
  {
   "cell_type": "markdown",
   "id": "7d409a2b",
   "metadata": {},
   "source": [
    "## Approach 2 Swapping Elements"
   ]
  },
  {
   "cell_type": "code",
   "execution_count": 11,
   "id": "82e8a027",
   "metadata": {},
   "outputs": [
    {
     "name": "stdout",
     "output_type": "stream",
     "text": [
      "[4, 2, 3, 1]\n"
     ]
    }
   ],
   "source": [
    "def interchange(l):\n",
    "    \n",
    "    #swapping elements using temporary variabke. \n",
    "    temp=l[0];\n",
    "    l[0]=l[len(l)-1];\n",
    "    l[len(l)-1]=temp;\n",
    "    return l;\n",
    "    \n",
    "l=[1,2,3,4];\n",
    "print(interchange(l))"
   ]
  },
  {
   "cell_type": "code",
   "execution_count": null,
   "id": "6bc90308",
   "metadata": {},
   "outputs": [],
   "source": []
  }
 ],
 "metadata": {
  "kernelspec": {
   "display_name": "Python 3 (ipykernel)",
   "language": "python",
   "name": "python3"
  },
  "language_info": {
   "codemirror_mode": {
    "name": "ipython",
    "version": 3
   },
   "file_extension": ".py",
   "mimetype": "text/x-python",
   "name": "python",
   "nbconvert_exporter": "python",
   "pygments_lexer": "ipython3",
   "version": "3.10.9"
  }
 },
 "nbformat": 4,
 "nbformat_minor": 5
}
