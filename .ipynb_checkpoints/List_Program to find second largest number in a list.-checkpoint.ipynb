{
 "cells": [
  {
   "cell_type": "markdown",
   "id": "c94d4779",
   "metadata": {},
   "source": [
    "## Approach 1"
   ]
  },
  {
   "cell_type": "code",
   "execution_count": 7,
   "id": "1b4de333",
   "metadata": {},
   "outputs": [
    {
     "name": "stdout",
     "output_type": "stream",
     "text": [
      "First maximum is 100\n",
      "Second maximum is 70\n"
     ]
    }
   ],
   "source": [
    "def maximum_in_list(old_list):\n",
    "    maximum=old_list[0]; #assuming first element to be maximum\n",
    "    \n",
    "    for element in old_list: #walking over all the elements in the list\n",
    "        if element>maximum:\n",
    "            maximum=element;\n",
    "    return maximum\n",
    "\n",
    "old_list=[70,11,20,4,100];\n",
    "maximum=maximum_in_list(old_list)\n",
    "print(\"First maximum is \"+ str(maximum))\n",
    "\n",
    "old_list.remove(maximum);\n",
    "maximum=maximum_in_list(old_list)\n",
    "print(\"Second maximum is \"+ str(maximum))"
   ]
  },
  {
   "cell_type": "markdown",
   "id": "a3dfdb7f",
   "metadata": {},
   "source": [
    "## Approach 2"
   ]
  },
  {
   "cell_type": "code",
   "execution_count": 21,
   "id": "c29fb414",
   "metadata": {},
   "outputs": [
    {
     "name": "stdout",
     "output_type": "stream",
     "text": [
      "First maximum is 100\n",
      "Second maximum is 70\n"
     ]
    }
   ],
   "source": [
    "# First arranging in ascending order\n",
    "listed=[70,11,20,4,100]\n",
    "for i in range (len(listed)):\n",
    "    for j in range (len(listed)-1):\n",
    "        if listed[j]>listed[j+1]:\n",
    "            temp=listed[j];\n",
    "            listed[j]=listed[j+1];\n",
    "            listed[j+1]=temp;\n",
    "\n",
    "print(\"First maximum is \"+ str(listed.pop()))\n",
    "print(\"Second maximum is \"+ str(listed.pop()))"
   ]
  },
  {
   "cell_type": "code",
   "execution_count": 17,
   "id": "f578bd4b",
   "metadata": {},
   "outputs": [
    {
     "data": {
      "text/plain": [
       "[4, 11, 20, 70, 100]"
      ]
     },
     "execution_count": 17,
     "metadata": {},
     "output_type": "execute_result"
    }
   ],
   "source": [
    "listed"
   ]
  },
  {
   "cell_type": "code",
   "execution_count": null,
   "id": "7214ecf8",
   "metadata": {},
   "outputs": [],
   "source": []
  }
 ],
 "metadata": {
  "kernelspec": {
   "display_name": "Python 3 (ipykernel)",
   "language": "python",
   "name": "python3"
  },
  "language_info": {
   "codemirror_mode": {
    "name": "ipython",
    "version": 3
   },
   "file_extension": ".py",
   "mimetype": "text/x-python",
   "name": "python",
   "nbconvert_exporter": "python",
   "pygments_lexer": "ipython3",
   "version": "3.10.9"
  }
 },
 "nbformat": 4,
 "nbformat_minor": 5
}
