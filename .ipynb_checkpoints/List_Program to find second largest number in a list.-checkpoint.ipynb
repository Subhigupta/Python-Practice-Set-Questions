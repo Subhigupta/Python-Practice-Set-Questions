{
 "cells": [
  {
   "cell_type": "markdown",
   "id": "c94d4779",
   "metadata": {},
   "source": [
    "## Approach 1\n",
    "### This method will not work for lists that has duplicate numbers. As remove() function removes first occurrence of a number."
   ]
  },
  {
   "cell_type": "code",
   "execution_count": 13,
   "id": "1b4de333",
   "metadata": {},
   "outputs": [
    {
     "name": "stdout",
     "output_type": "stream",
     "text": [
      "First maximum is 100\n",
      "Second maximum is 70\n"
     ]
    }
   ],
   "source": [
    "def maximum_in_list(old_list):\n",
    "    maximum=old_list[0]; #assuming first element to be maximum\n",
    "    \n",
    "    for element in old_list: #walking over all the elements in the list\n",
    "        if element>maximum:\n",
    "            maximum=element;\n",
    "    return maximum\n",
    "\n",
    "old_list=[70,11,20,4,100];\n",
    "maximum=maximum_in_list(old_list)\n",
    "print(\"First maximum is \"+ str(maximum))\n",
    "\n",
    "old_list.remove(maximum);\n",
    "maximum=maximum_in_list(old_list)\n",
    "print(\"Second maximum is \"+ str(maximum))"
   ]
  },
  {
   "cell_type": "markdown",
   "id": "e3db4ad3",
   "metadata": {},
   "source": [
    "## Approach 2\n",
    "### We will have to loop to remove all occurrences of the first_max element. Use count() function."
   ]
  },
  {
   "cell_type": "code",
   "execution_count": 16,
   "id": "87765d37",
   "metadata": {},
   "outputs": [
    {
     "name": "stdout",
     "output_type": "stream",
     "text": [
      "First maximum is 99\n",
      "Second maximum is 45\n"
     ]
    }
   ],
   "source": [
    "def maximum_in_list(old_list):\n",
    "    maximum=old_list[0]; #assuming first element to be maximum\n",
    "    \n",
    "    for element in old_list: #walking over all the elements in the list\n",
    "        if element>maximum:\n",
    "            maximum=element;\n",
    "    return maximum\n",
    "\n",
    "old_list=[10, 20, 20, 4, 45, 45, 45, 99, 99];\n",
    "maximum=maximum_in_list(old_list)\n",
    "print(\"First maximum is \"+ str(maximum))\n",
    "\n",
    "while old_list.count(maximum):\n",
    "    old_list.remove(maximum)\n",
    "\n",
    "maximum=maximum_in_list(old_list)\n",
    "print(\"Second maximum is \"+ str(maximum))"
   ]
  },
  {
   "cell_type": "markdown",
   "id": "a3dfdb7f",
   "metadata": {},
   "source": [
    "## Approach 2\n",
    "### The method may not work in case of duplicate numbers."
   ]
  },
  {
   "cell_type": "code",
   "execution_count": 8,
   "id": "c29fb414",
   "metadata": {},
   "outputs": [
    {
     "name": "stdout",
     "output_type": "stream",
     "text": [
      "First maximum is 100\n",
      "Second maximum is 70\n"
     ]
    }
   ],
   "source": [
    "# First arranging in ascending order\n",
    "\n",
    "listed=[70,11,20,4,100];\n",
    "\n",
    "for i in range (len(listed)):\n",
    "    for j in range (len(listed)-1):\n",
    "        if listed[j]>listed[j+1]:\n",
    "            temp=listed[j];\n",
    "            listed[j]=listed[j+1];\n",
    "            listed[j+1]=temp;\n",
    "#Removing two elements from sorted list.\n",
    "print(\"First maximum is \"+ str(listed.pop()))\n",
    "print(\"Second maximum is \"+ str(listed.pop()))"
   ]
  },
  {
   "cell_type": "markdown",
   "id": "9d4f7be3",
   "metadata": {},
   "source": [
    "## Approach 3\n",
    "### Use of set() function to remove duplicate numbers. The key difference between a list and a set is that list can store duplicate values, whereas a set can't. In Python, lists and sets are built-in data structures that store and arrange the values. "
   ]
  },
  {
   "cell_type": "code",
   "execution_count": 9,
   "id": "258f2d63",
   "metadata": {},
   "outputs": [
    {
     "name": "stdout",
     "output_type": "stream",
     "text": [
      "[99, 4, 10, 45, 20]\n",
      "First maximum is 99\n",
      "Second maximum is 45\n"
     ]
    }
   ],
   "source": [
    "# First arranging in ascending order\n",
    "liste=[10, 20, 20, 4, 45, 45, 45, 99, 99];\n",
    "listed = list(set(liste));\n",
    "print(listed)\n",
    "\n",
    "for i in range (len(listed)):\n",
    "    for j in range (len(listed)-1):\n",
    "        if listed[j]>listed[j+1]:\n",
    "            temp=listed[j];\n",
    "            listed[j]=listed[j+1];\n",
    "            listed[j+1]=temp;\n",
    "#Removing two elements from sorted list.\n",
    "print(\"First maximum is \"+ str(listed.pop()))\n",
    "print(\"Second maximum is \"+ str(listed.pop()))"
   ]
  },
  {
   "cell_type": "code",
   "execution_count": null,
   "id": "8815235f",
   "metadata": {},
   "outputs": [],
   "source": []
  }
 ],
 "metadata": {
  "kernelspec": {
   "display_name": "Python 3 (ipykernel)",
   "language": "python",
   "name": "python3"
  },
  "language_info": {
   "codemirror_mode": {
    "name": "ipython",
    "version": 3
   },
   "file_extension": ".py",
   "mimetype": "text/x-python",
   "name": "python",
   "nbconvert_exporter": "python",
   "pygments_lexer": "ipython3",
   "version": "3.10.9"
  }
 },
 "nbformat": 4,
 "nbformat_minor": 5
}
